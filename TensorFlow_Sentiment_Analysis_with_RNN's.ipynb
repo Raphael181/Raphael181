{
  "nbformat": 4,
  "nbformat_minor": 0,
  "metadata": {
    "colab": {
      "name": "TensorFlow: Sentiment Analysis  with RNN's",
      "provenance": [],
      "authorship_tag": "ABX9TyMtWCLTLvpRoHLVJAmkyP7Z",
      "include_colab_link": true
    },
    "kernelspec": {
      "display_name": "Python 3",
      "name": "python3"
    },
    "language_info": {
      "name": "python"
    }
  },
  "cells": [
    {
      "cell_type": "markdown",
      "metadata": {
        "id": "view-in-github",
        "colab_type": "text"
      },
      "source": [
        "<a href=\"https://colab.research.google.com/github/Raphael181/Raphael181/blob/main/TensorFlow_Sentiment_Analysis_with_RNN's.ipynb\" target=\"_parent\"><img src=\"https://colab.research.google.com/assets/colab-badge.svg\" alt=\"Open In Colab\"/></a>"
      ]
    },
    {
      "cell_type": "code",
      "metadata": {
        "id": "8EekAnJKUCfk"
      },
      "source": [
        " #Sentiment Analysis to determine if movie reviews are either positive or negative\n",
        " #imports\n",
        " %tensorflow_version 2.x\n",
        " from keras.datasets import imdb\n",
        " from tensorflow import keras\n",
        " from keras.preprocessing import sequence\n",
        " import tensorflow as tf\n",
        " import os\n",
        " import numpy as np"
      ],
      "execution_count": null,
      "outputs": []
    },
    {
      "cell_type": "code",
      "metadata": {
        "colab": {
          "base_uri": "https://localhost:8080/"
        },
        "id": "BE7ZuzVdq3Ny",
        "outputId": "f1f00490-236b-4fbf-c48c-33e67137b4a3"
      },
      "source": [
        "#Define the vobulary size\n",
        "vocab_size = 88584\n",
        "#max length of a review\n",
        "maxlen = 250\n",
        "#batch size\n",
        "batch_size  = 64\n",
        "#load dataset\n",
        "(training , training_label) , (testing , testing_label)  = imdb.load_data(num_words  = vocab_size)"
      ],
      "execution_count": null,
      "outputs": [
        {
          "output_type": "stream",
          "text": [
            "Downloading data from https://storage.googleapis.com/tensorflow/tf-keras-datasets/imdb.npz\n",
            "17465344/17464789 [==============================] - 0s 0us/step\n"
          ],
          "name": "stdout"
        },
        {
          "output_type": "stream",
          "text": [
            "<string>:6: VisibleDeprecationWarning: Creating an ndarray from ragged nested sequences (which is a list-or-tuple of lists-or-tuples-or ndarrays with different lengths or shapes) is deprecated. If you meant to do this, you must specify 'dtype=object' when creating the ndarray\n",
            "/usr/local/lib/python3.7/dist-packages/tensorflow/python/keras/datasets/imdb.py:159: VisibleDeprecationWarning: Creating an ndarray from ragged nested sequences (which is a list-or-tuple of lists-or-tuples-or ndarrays with different lengths or shapes) is deprecated. If you meant to do this, you must specify 'dtype=object' when creating the ndarray\n",
            "  x_train, y_train = np.array(xs[:idx]), np.array(labels[:idx])\n",
            "/usr/local/lib/python3.7/dist-packages/tensorflow/python/keras/datasets/imdb.py:160: VisibleDeprecationWarning: Creating an ndarray from ragged nested sequences (which is a list-or-tuple of lists-or-tuples-or ndarrays with different lengths or shapes) is deprecated. If you meant to do this, you must specify 'dtype=object' when creating the ndarray\n",
            "  x_test, y_test = np.array(xs[idx:]), np.array(labels[idx:])\n"
          ],
          "name": "stderr"
        }
      ]
    },
    {
      "cell_type": "code",
      "metadata": {
        "id": "Qauzl0RjruyR"
      },
      "source": [
        "#Preprocesing: We cannot pass different length data into our model so we have to make all their lengths the same\n",
        "train_data = sequence.pad_sequences(training , maxlen)\n",
        "test_data = sequence.pad_sequences(testing , maxlen)"
      ],
      "execution_count": null,
      "outputs": []
    },
    {
      "cell_type": "code",
      "metadata": {
        "id": "OKaYRZIhsht7"
      },
      "source": [
        "#creating the model\n",
        "model = tf.keras.Sequential([\n",
        "                tf.keras.layers.Embedding(vocab_size , 32),\n",
        "                tf.keras.layers.LSTM(32),\n",
        "                tf.keras.layers.Dense(1, activation='sigmoid')\n",
        "])"
      ],
      "execution_count": null,
      "outputs": []
    },
    {
      "cell_type": "code",
      "metadata": {
        "colab": {
          "base_uri": "https://localhost:8080/"
        },
        "id": "XrxYUys7tbmu",
        "outputId": "688b79c2-a50c-4933-d916-a71e70e39bf8"
      },
      "source": [
        "#compile and train the model\n",
        "model.compile(optimizer='rmsprop' , loss='binary_crossentropy',metrics = ['accuracy'])\n",
        "\n",
        "history = model.fit(train_data, training_label , validation_split=0.2, epochs=5)"
      ],
      "execution_count": null,
      "outputs": [
        {
          "output_type": "stream",
          "text": [
            "Epoch 1/5\n",
            "625/625 [==============================] - 54s 83ms/step - loss: 0.5415 - accuracy: 0.7090 - val_loss: 0.2995 - val_accuracy: 0.8810\n",
            "Epoch 2/5\n",
            "625/625 [==============================] - 52s 83ms/step - loss: 0.2388 - accuracy: 0.9122 - val_loss: 0.2834 - val_accuracy: 0.8888\n",
            "Epoch 3/5\n",
            "625/625 [==============================] - 51s 82ms/step - loss: 0.1743 - accuracy: 0.9393 - val_loss: 0.3157 - val_accuracy: 0.8900\n",
            "Epoch 4/5\n",
            "625/625 [==============================] - 52s 83ms/step - loss: 0.1483 - accuracy: 0.9489 - val_loss: 0.2847 - val_accuracy: 0.8930\n",
            "Epoch 5/5\n",
            "625/625 [==============================] - 51s 81ms/step - loss: 0.1170 - accuracy: 0.9613 - val_loss: 0.2898 - val_accuracy: 0.8896\n"
          ],
          "name": "stdout"
        }
      ]
    },
    {
      "cell_type": "code",
      "metadata": {
        "colab": {
          "base_uri": "https://localhost:8080/"
        },
        "id": "xIpdtXawuRFV",
        "outputId": "0f7efaae-d6ab-4de4-8e8a-c92907e061d3"
      },
      "source": [
        "#test the model \n",
        "result = model.evaluate(test_data , testing_label)\n",
        "print(result)"
      ],
      "execution_count": null,
      "outputs": [
        {
          "output_type": "stream",
          "text": [
            "782/782 [==============================] - 15s 19ms/step - loss: 0.3434 - accuracy: 0.8670\n",
            "[0.3434389531612396, 0.8670399785041809]\n"
          ],
          "name": "stdout"
        }
      ]
    },
    {
      "cell_type": "code",
      "metadata": {
        "colab": {
          "base_uri": "https://localhost:8080/"
        },
        "id": "qP7fP60c1OBP",
        "outputId": "87b6b32b-0ad3-410c-99ba-53d2e80ae0b1"
      },
      "source": [
        "word_index = imdb.get_word_index()\n",
        "#a function that encodes any words into proper preprocessed integers\n",
        "def encode_text(text):\n",
        "  tokens = keras.preprocessing.text.text_to_word_sequence(text)\n",
        "  tokens =[word_index[word] if word in word_index else 0  for word in tokens]\n",
        "  return sequence.pad_sequences([tokens] , maxlen=maxlen)[0]\n",
        "\n",
        "text  = \"that movie was amazing, so splendid\"\n",
        "encoded = encode_text(text)\n",
        "print(encoded)"
      ],
      "execution_count": null,
      "outputs": [
        {
          "output_type": "stream",
          "text": [
            "[   0    0    0    0    0    0    0    0    0    0    0    0    0    0\n",
            "    0    0    0    0    0    0    0    0    0    0    0    0    0    0\n",
            "    0    0    0    0    0    0    0    0    0    0    0    0    0    0\n",
            "    0    0    0    0    0    0    0    0    0    0    0    0    0    0\n",
            "    0    0    0    0    0    0    0    0    0    0    0    0    0    0\n",
            "    0    0    0    0    0    0    0    0    0    0    0    0    0    0\n",
            "    0    0    0    0    0    0    0    0    0    0    0    0    0    0\n",
            "    0    0    0    0    0    0    0    0    0    0    0    0    0    0\n",
            "    0    0    0    0    0    0    0    0    0    0    0    0    0    0\n",
            "    0    0    0    0    0    0    0    0    0    0    0    0    0    0\n",
            "    0    0    0    0    0    0    0    0    0    0    0    0    0    0\n",
            "    0    0    0    0    0    0    0    0    0    0    0    0    0    0\n",
            "    0    0    0    0    0    0    0    0    0    0    0    0    0    0\n",
            "    0    0    0    0    0    0    0    0    0    0    0    0    0    0\n",
            "    0    0    0    0    0    0    0    0    0    0    0    0    0    0\n",
            "    0    0    0    0    0    0    0    0    0    0    0    0    0    0\n",
            "    0    0    0    0    0    0    0    0    0    0    0    0    0    0\n",
            "    0    0    0    0    0    0   12   17   13  477   35 3617]\n"
          ],
          "name": "stdout"
        }
      ]
    },
    {
      "cell_type": "code",
      "metadata": {
        "colab": {
          "base_uri": "https://localhost:8080/"
        },
        "id": "Y3efgfmo2fGn",
        "outputId": "8998cec8-0995-4c8b-d4fb-ebb9d1a0dead"
      },
      "source": [
        "#Decoding function\n",
        "reverse_word_index = {value: key for (key,value) in word_index.items()}\n",
        "\n",
        "def decode_integers(integers):\n",
        "  Pad = 0\n",
        "  text = ''\n",
        "  for num in integers:\n",
        "    if num != Pad:\n",
        "      text += reverse_word_index[num] + \" \"\n",
        "    \n",
        "  return text[:-1]\n",
        "\n",
        "print(decode_integers(encoded))"
      ],
      "execution_count": null,
      "outputs": [
        {
          "output_type": "stream",
          "text": [
            "that movie was amazing so splendid\n"
          ],
          "name": "stdout"
        }
      ]
    },
    {
      "cell_type": "code",
      "metadata": {
        "colab": {
          "base_uri": "https://localhost:8080/"
        },
        "id": "JdoCeMJ64NT5",
        "outputId": "af6ad29a-b45a-4f97-b390-1ec75b4ad70e"
      },
      "source": [
        "#writing a function to predict\n",
        "\n",
        "def prediction(text):\n",
        "  #preprocessing statement to encode text\n",
        "  encoded_text = encode_text(text)\n",
        "  #create a blank numpy array\n",
        "  pred = np.zeros((1,250))\n",
        "  pred[0] = encoded_text\n",
        "  result = model.predict(pred)\n",
        "  print(result[0])\n",
        "\n",
        "positive_rev = \"That was such as good movie\"\n",
        "prediction(positive_rev)\n",
        "\n",
        "negative_rev = \"That was such an awful movie\"\n",
        "prediction(negative_rev)"
      ],
      "execution_count": null,
      "outputs": [
        {
          "output_type": "stream",
          "text": [
            "[0.37797326]\n",
            "[0.26012635]\n"
          ],
          "name": "stdout"
        }
      ]
    },
    {
      "cell_type": "code",
      "metadata": {
        "colab": {
          "base_uri": "https://localhost:8080/"
        },
        "id": "O48GWQG56gU-",
        "outputId": "13a565ea-ebc2-41de-94ef-b087e3fb7188"
      },
      "source": [
        "#Example 2: Character Generator\n",
        "\n",
        "path_to_file  = tf.keras.utils.get_file('shakespeare.txt' , 'https://storage.googleapis.com/download.tensorflow.org/data/shakespeare.txt')"
      ],
      "execution_count": null,
      "outputs": [
        {
          "output_type": "stream",
          "text": [
            "Downloading data from https://storage.googleapis.com/download.tensorflow.org/data/shakespeare.txt\n",
            "1122304/1115394 [==============================] - 0s 0us/step\n"
          ],
          "name": "stdout"
        }
      ]
    },
    {
      "cell_type": "code",
      "metadata": {
        "colab": {
          "base_uri": "https://localhost:8080/"
        },
        "id": "Jr0PneWmDHsA",
        "outputId": "8d5a5266-9101-4ca3-caf5-d74122b12c1a"
      },
      "source": [
        "#open and read the file\n",
        "text = open(path_to_file ,'rb').read().decode(encoding = 'utf-8')\n",
        "#length of text is the number of characters in it\n",
        "print(f\"Length of text is {len(text)} characters\" )"
      ],
      "execution_count": null,
      "outputs": [
        {
          "output_type": "stream",
          "text": [
            "Length of text is 1115394 characters\n"
          ],
          "name": "stdout"
        }
      ]
    },
    {
      "cell_type": "code",
      "metadata": {
        "id": "qsUOsOm7EETF"
      },
      "source": [
        "#preprocessing and encoding words\n",
        "vocab = sorted(set(text))\n",
        "#creating a mapping for unique characters to indices\n",
        "char2idx = {u:i for i,u in enumerate(vocab)}\n",
        "idx2char = np.array(vocab)\n",
        "\n",
        "#A function that changes text to int\n",
        "def text_to_int(text):\n",
        "  return np.array([char2idx[c] for c in text])\n",
        "\n",
        "textasint = text_to_int(text)"
      ],
      "execution_count": null,
      "outputs": []
    },
    {
      "cell_type": "code",
      "metadata": {
        "colab": {
          "base_uri": "https://localhost:8080/"
        },
        "id": "hhhR2WdOGD_T",
        "outputId": "2cb119e1-e3e7-4ff5-9646-89218ef93217"
      },
      "source": [
        "print(\"Text: \" , text[:15])\n",
        "print(\"Encoded:\" , text_to_int(text[:15]))"
      ],
      "execution_count": null,
      "outputs": [
        {
          "output_type": "stream",
          "text": [
            "Text:  First Citizen:\n",
            "\n",
            "Encoded: [18 47 56 57 58  1 15 47 58 47 64 43 52 10  0]\n"
          ],
          "name": "stdout"
        }
      ]
    },
    {
      "cell_type": "code",
      "metadata": {
        "colab": {
          "base_uri": "https://localhost:8080/"
        },
        "id": "EUuHmaVjGfUT",
        "outputId": "4d43e4f8-e139-4d30-a6ff-cf39a805d078"
      },
      "source": [
        "#Decoding/Converting numeric values to text:\n",
        "def int_to_text(integer):\n",
        "  try:\n",
        "    integer = integer.numpy()\n",
        "  except:\n",
        "    pass\n",
        "  return ''.join(idx2char[integer])\n",
        "  \n",
        "print(int_to_text(textasint[:15]))"
      ],
      "execution_count": null,
      "outputs": [
        {
          "output_type": "stream",
          "text": [
            "First Citizen:\n",
            "\n"
          ],
          "name": "stdout"
        }
      ]
    },
    {
      "cell_type": "code",
      "metadata": {
        "id": "wOizMjH8Hajm"
      },
      "source": [
        "#creating training examples\n",
        "seq_length = 100\n",
        "amountperepoch = len(text)//(seq_length + 1)\n",
        "\n",
        "#create training examples\n",
        "char_dataset = tf.data.Dataset.from_tensor_slices(textasint)"
      ],
      "execution_count": null,
      "outputs": []
    },
    {
      "cell_type": "code",
      "metadata": {
        "colab": {
          "background_save": true
        },
        "id": "QZC5cckgJR2S"
      },
      "source": [
        "#turn the stream of characters into batches of desired length\n",
        "sequences = char_dataset.batch(batch_size=)"
      ],
      "execution_count": null,
      "outputs": []
    }
  ]
}