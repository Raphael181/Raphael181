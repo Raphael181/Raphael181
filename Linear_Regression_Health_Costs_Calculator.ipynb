{
  "nbformat": 4,
  "nbformat_minor": 0,
  "metadata": {
    "colab": {
      "name": "Linear Regression Health Costs Calculator",
      "provenance": [],
      "authorship_tag": "ABX9TyO/AQEPE8uDrlVMQau2pIqg",
      "include_colab_link": true
    },
    "kernelspec": {
      "name": "python3",
      "display_name": "Python 3"
    },
    "language_info": {
      "name": "python"
    }
  },
  "cells": [
    {
      "cell_type": "markdown",
      "metadata": {
        "id": "view-in-github",
        "colab_type": "text"
      },
      "source": [
        "<a href=\"https://colab.research.google.com/github/Raphael181/Raphael181/blob/main/Linear_Regression_Health_Costs_Calculator.ipynb\" target=\"_parent\"><img src=\"https://colab.research.google.com/assets/colab-badge.svg\" alt=\"Open In Colab\"/></a>"
      ]
    },
    {
      "cell_type": "code",
      "metadata": {
        "colab": {
          "base_uri": "https://localhost:8080/"
        },
        "id": "1rYG_CqEbmll",
        "outputId": "f16be3bf-a6ff-4dec-915e-55fac92404b4"
      },
      "source": [
        "# Import libraries. You may or may not use all of these.\n",
        "!pip install -q git+https://github.com/tensorflow/docs\n",
        "import matplotlib.pyplot as plt\n",
        "import numpy as np\n",
        "import pandas as pd\n",
        "\n",
        "try:\n",
        "  # %tensorflow_version only exists in Colab.\n",
        "  %tensorflow_version 2.x\n",
        "except Exception:\n",
        "  pass\n",
        "import tensorflow as tf\n",
        "\n",
        "from tensorflow import keras\n",
        "from tensorflow.keras import layers\n",
        "\n",
        "import tensorflow_docs as tfdocs\n",
        "import tensorflow_docs.plots\n",
        "import tensorflow_docs.modeling"
      ],
      "execution_count": null,
      "outputs": [
        {
          "output_type": "stream",
          "text": [
            "\u001b[?25l\r\u001b[K     |▎                               | 10kB 18.8MB/s eta 0:00:01\r\u001b[K     |▋                               | 20kB 11.7MB/s eta 0:00:01\r\u001b[K     |█                               | 30kB 5.9MB/s eta 0:00:01\r\u001b[K     |█▎                              | 40kB 5.5MB/s eta 0:00:01\r\u001b[K     |█▋                              | 51kB 2.9MB/s eta 0:00:01\r\u001b[K     |██                              | 61kB 3.3MB/s eta 0:00:01\r\u001b[K     |██▎                             | 71kB 3.5MB/s eta 0:00:01\r\u001b[K     |██▋                             | 81kB 3.8MB/s eta 0:00:01\r\u001b[K     |██▉                             | 92kB 3.8MB/s eta 0:00:01\r\u001b[K     |███▏                            | 102kB 4.0MB/s eta 0:00:01\r\u001b[K     |███▌                            | 112kB 4.0MB/s eta 0:00:01\r\u001b[K     |███▉                            | 122kB 4.0MB/s eta 0:00:01\r\u001b[K     |████▏                           | 133kB 4.0MB/s eta 0:00:01\r\u001b[K     |████▌                           | 143kB 4.0MB/s eta 0:00:01\r\u001b[K     |████▉                           | 153kB 4.0MB/s eta 0:00:01\r\u001b[K     |█████▏                          | 163kB 4.0MB/s eta 0:00:01\r\u001b[K     |█████▌                          | 174kB 4.0MB/s eta 0:00:01\r\u001b[K     |█████▊                          | 184kB 4.0MB/s eta 0:00:01\r\u001b[K     |██████                          | 194kB 4.0MB/s eta 0:00:01\r\u001b[K     |██████▍                         | 204kB 4.0MB/s eta 0:00:01\r\u001b[K     |██████▊                         | 215kB 4.0MB/s eta 0:00:01\r\u001b[K     |███████                         | 225kB 4.0MB/s eta 0:00:01\r\u001b[K     |███████▍                        | 235kB 4.0MB/s eta 0:00:01\r\u001b[K     |███████▊                        | 245kB 4.0MB/s eta 0:00:01\r\u001b[K     |████████                        | 256kB 4.0MB/s eta 0:00:01\r\u001b[K     |████████▍                       | 266kB 4.0MB/s eta 0:00:01\r\u001b[K     |████████▋                       | 276kB 4.0MB/s eta 0:00:01\r\u001b[K     |█████████                       | 286kB 4.0MB/s eta 0:00:01\r\u001b[K     |█████████▎                      | 296kB 4.0MB/s eta 0:00:01\r\u001b[K     |█████████▋                      | 307kB 4.0MB/s eta 0:00:01\r\u001b[K     |██████████                      | 317kB 4.0MB/s eta 0:00:01\r\u001b[K     |██████████▎                     | 327kB 4.0MB/s eta 0:00:01\r\u001b[K     |██████████▋                     | 337kB 4.0MB/s eta 0:00:01\r\u001b[K     |███████████                     | 348kB 4.0MB/s eta 0:00:01\r\u001b[K     |███████████▎                    | 358kB 4.0MB/s eta 0:00:01\r\u001b[K     |███████████▌                    | 368kB 4.0MB/s eta 0:00:01\r\u001b[K     |███████████▉                    | 378kB 4.0MB/s eta 0:00:01\r\u001b[K     |████████████▏                   | 389kB 4.0MB/s eta 0:00:01\r\u001b[K     |████████████▌                   | 399kB 4.0MB/s eta 0:00:01\r\u001b[K     |████████████▉                   | 409kB 4.0MB/s eta 0:00:01\r\u001b[K     |█████████████▏                  | 419kB 4.0MB/s eta 0:00:01\r\u001b[K     |█████████████▌                  | 430kB 4.0MB/s eta 0:00:01\r\u001b[K     |█████████████▉                  | 440kB 4.0MB/s eta 0:00:01\r\u001b[K     |██████████████▏                 | 450kB 4.0MB/s eta 0:00:01\r\u001b[K     |██████████████▍                 | 460kB 4.0MB/s eta 0:00:01\r\u001b[K     |██████████████▊                 | 471kB 4.0MB/s eta 0:00:01\r\u001b[K     |███████████████                 | 481kB 4.0MB/s eta 0:00:01\r\u001b[K     |███████████████▍                | 491kB 4.0MB/s eta 0:00:01\r\u001b[K     |███████████████▊                | 501kB 4.0MB/s eta 0:00:01\r\u001b[K     |████████████████                | 512kB 4.0MB/s eta 0:00:01\r\u001b[K     |████████████████▍               | 522kB 4.0MB/s eta 0:00:01\r\u001b[K     |████████████████▊               | 532kB 4.0MB/s eta 0:00:01\r\u001b[K     |█████████████████               | 542kB 4.0MB/s eta 0:00:01\r\u001b[K     |█████████████████▎              | 552kB 4.0MB/s eta 0:00:01\r\u001b[K     |█████████████████▋              | 563kB 4.0MB/s eta 0:00:01\r\u001b[K     |██████████████████              | 573kB 4.0MB/s eta 0:00:01\r\u001b[K     |██████████████████▎             | 583kB 4.0MB/s eta 0:00:01\r\u001b[K     |██████████████████▋             | 593kB 4.0MB/s eta 0:00:01\r\u001b[K     |███████████████████             | 604kB 4.0MB/s eta 0:00:01\r\u001b[K     |███████████████████▎            | 614kB 4.0MB/s eta 0:00:01\r\u001b[K     |███████████████████▋            | 624kB 4.0MB/s eta 0:00:01\r\u001b[K     |███████████████████▉            | 634kB 4.0MB/s eta 0:00:01\r\u001b[K     |████████████████████▏           | 645kB 4.0MB/s eta 0:00:01\r\u001b[K     |████████████████████▌           | 655kB 4.0MB/s eta 0:00:01\r\u001b[K     |████████████████████▉           | 665kB 4.0MB/s eta 0:00:01\r\u001b[K     |█████████████████████▏          | 675kB 4.0MB/s eta 0:00:01\r\u001b[K     |█████████████████████▌          | 686kB 4.0MB/s eta 0:00:01\r\u001b[K     |█████████████████████▉          | 696kB 4.0MB/s eta 0:00:01\r\u001b[K     |██████████████████████▏         | 706kB 4.0MB/s eta 0:00:01\r\u001b[K     |██████████████████████▌         | 716kB 4.0MB/s eta 0:00:01\r\u001b[K     |██████████████████████▊         | 727kB 4.0MB/s eta 0:00:01\r\u001b[K     |███████████████████████         | 737kB 4.0MB/s eta 0:00:01\r\u001b[K     |███████████████████████▍        | 747kB 4.0MB/s eta 0:00:01\r\u001b[K     |███████████████████████▊        | 757kB 4.0MB/s eta 0:00:01\r\u001b[K     |████████████████████████        | 768kB 4.0MB/s eta 0:00:01\r\u001b[K     |████████████████████████▍       | 778kB 4.0MB/s eta 0:00:01\r\u001b[K     |████████████████████████▊       | 788kB 4.0MB/s eta 0:00:01\r\u001b[K     |█████████████████████████       | 798kB 4.0MB/s eta 0:00:01\r\u001b[K     |█████████████████████████▍      | 808kB 4.0MB/s eta 0:00:01\r\u001b[K     |█████████████████████████▋      | 819kB 4.0MB/s eta 0:00:01\r\u001b[K     |██████████████████████████      | 829kB 4.0MB/s eta 0:00:01\r\u001b[K     |██████████████████████████▎     | 839kB 4.0MB/s eta 0:00:01\r\u001b[K     |██████████████████████████▋     | 849kB 4.0MB/s eta 0:00:01\r\u001b[K     |███████████████████████████     | 860kB 4.0MB/s eta 0:00:01\r\u001b[K     |███████████████████████████▎    | 870kB 4.0MB/s eta 0:00:01\r\u001b[K     |███████████████████████████▋    | 880kB 4.0MB/s eta 0:00:01\r\u001b[K     |████████████████████████████    | 890kB 4.0MB/s eta 0:00:01\r\u001b[K     |████████████████████████████▎   | 901kB 4.0MB/s eta 0:00:01\r\u001b[K     |████████████████████████████▌   | 911kB 4.0MB/s eta 0:00:01\r\u001b[K     |████████████████████████████▉   | 921kB 4.0MB/s eta 0:00:01\r\u001b[K     |█████████████████████████████▏  | 931kB 4.0MB/s eta 0:00:01\r\u001b[K     |█████████████████████████████▌  | 942kB 4.0MB/s eta 0:00:01\r\u001b[K     |█████████████████████████████▉  | 952kB 4.0MB/s eta 0:00:01\r\u001b[K     |██████████████████████████████▏ | 962kB 4.0MB/s eta 0:00:01\r\u001b[K     |██████████████████████████████▌ | 972kB 4.0MB/s eta 0:00:01\r\u001b[K     |██████████████████████████████▉ | 983kB 4.0MB/s eta 0:00:01\r\u001b[K     |███████████████████████████████▏| 993kB 4.0MB/s eta 0:00:01\r\u001b[K     |███████████████████████████████▍| 1.0MB 4.0MB/s eta 0:00:01\r\u001b[K     |███████████████████████████████▊| 1.0MB 4.0MB/s eta 0:00:01\r\u001b[K     |████████████████████████████████| 1.0MB 4.0MB/s \n",
            "\u001b[?25h  Building wheel for tensorflow-docs (setup.py) ... \u001b[?25l\u001b[?25hdone\n"
          ],
          "name": "stdout"
        }
      ]
    },
    {
      "cell_type": "code",
      "metadata": {
        "colab": {
          "base_uri": "https://localhost:8080/",
          "height": 411
        },
        "id": "BYPWVa4Ub7vZ",
        "outputId": "92d57ff8-fece-4c14-a8f9-b9ab81c4a329"
      },
      "source": [
        "# Import data\n",
        "!wget https://cdn.freecodecamp.org/project-data/health-costs/insurance.csv\n",
        "dataset = pd.read_csv('insurance.csv')\n",
        "dataset.tail()"
      ],
      "execution_count": null,
      "outputs": [
        {
          "output_type": "stream",
          "text": [
            "--2021-05-11 17:19:01--  https://cdn.freecodecamp.org/project-data/health-costs/insurance.csv\n",
            "Resolving cdn.freecodecamp.org (cdn.freecodecamp.org)... 172.67.70.149, 104.26.2.33, 104.26.3.33, ...\n",
            "Connecting to cdn.freecodecamp.org (cdn.freecodecamp.org)|172.67.70.149|:443... connected.\n",
            "HTTP request sent, awaiting response... 200 OK\n",
            "Length: 50264 (49K) [text/csv]\n",
            "Saving to: ‘insurance.csv’\n",
            "\n",
            "\rinsurance.csv         0%[                    ]       0  --.-KB/s               \rinsurance.csv       100%[===================>]  49.09K  --.-KB/s    in 0.01s   \n",
            "\n",
            "2021-05-11 17:19:02 (3.23 MB/s) - ‘insurance.csv’ saved [50264/50264]\n",
            "\n"
          ],
          "name": "stdout"
        },
        {
          "output_type": "execute_result",
          "data": {
            "text/html": [
              "<div>\n",
              "<style scoped>\n",
              "    .dataframe tbody tr th:only-of-type {\n",
              "        vertical-align: middle;\n",
              "    }\n",
              "\n",
              "    .dataframe tbody tr th {\n",
              "        vertical-align: top;\n",
              "    }\n",
              "\n",
              "    .dataframe thead th {\n",
              "        text-align: right;\n",
              "    }\n",
              "</style>\n",
              "<table border=\"1\" class=\"dataframe\">\n",
              "  <thead>\n",
              "    <tr style=\"text-align: right;\">\n",
              "      <th></th>\n",
              "      <th>age</th>\n",
              "      <th>sex</th>\n",
              "      <th>bmi</th>\n",
              "      <th>children</th>\n",
              "      <th>smoker</th>\n",
              "      <th>region</th>\n",
              "      <th>expenses</th>\n",
              "    </tr>\n",
              "  </thead>\n",
              "  <tbody>\n",
              "    <tr>\n",
              "      <th>1333</th>\n",
              "      <td>50</td>\n",
              "      <td>male</td>\n",
              "      <td>31.0</td>\n",
              "      <td>3</td>\n",
              "      <td>no</td>\n",
              "      <td>northwest</td>\n",
              "      <td>10600.55</td>\n",
              "    </tr>\n",
              "    <tr>\n",
              "      <th>1334</th>\n",
              "      <td>18</td>\n",
              "      <td>female</td>\n",
              "      <td>31.9</td>\n",
              "      <td>0</td>\n",
              "      <td>no</td>\n",
              "      <td>northeast</td>\n",
              "      <td>2205.98</td>\n",
              "    </tr>\n",
              "    <tr>\n",
              "      <th>1335</th>\n",
              "      <td>18</td>\n",
              "      <td>female</td>\n",
              "      <td>36.9</td>\n",
              "      <td>0</td>\n",
              "      <td>no</td>\n",
              "      <td>southeast</td>\n",
              "      <td>1629.83</td>\n",
              "    </tr>\n",
              "    <tr>\n",
              "      <th>1336</th>\n",
              "      <td>21</td>\n",
              "      <td>female</td>\n",
              "      <td>25.8</td>\n",
              "      <td>0</td>\n",
              "      <td>no</td>\n",
              "      <td>southwest</td>\n",
              "      <td>2007.95</td>\n",
              "    </tr>\n",
              "    <tr>\n",
              "      <th>1337</th>\n",
              "      <td>61</td>\n",
              "      <td>female</td>\n",
              "      <td>29.1</td>\n",
              "      <td>0</td>\n",
              "      <td>yes</td>\n",
              "      <td>northwest</td>\n",
              "      <td>29141.36</td>\n",
              "    </tr>\n",
              "  </tbody>\n",
              "</table>\n",
              "</div>"
            ],
            "text/plain": [
              "      age     sex   bmi  children smoker     region  expenses\n",
              "1333   50    male  31.0         3     no  northwest  10600.55\n",
              "1334   18  female  31.9         0     no  northeast   2205.98\n",
              "1335   18  female  36.9         0     no  southeast   1629.83\n",
              "1336   21  female  25.8         0     no  southwest   2007.95\n",
              "1337   61  female  29.1         0    yes  northwest  29141.36"
            ]
          },
          "metadata": {
            "tags": []
          },
          "execution_count": 2
        }
      ]
    },
    {
      "cell_type": "code",
      "metadata": {
        "colab": {
          "base_uri": "https://localhost:8080/"
        },
        "id": "1v7aOkB9cGwD",
        "outputId": "9a9104dd-be9c-44e3-e339-ccbe42f412d2"
      },
      "source": [
        "print(dataset.head())"
      ],
      "execution_count": null,
      "outputs": [
        {
          "output_type": "stream",
          "text": [
            "   age     sex   bmi  children smoker     region  expenses\n",
            "0   19  female  27.9         0    yes  southwest  16884.92\n",
            "1   18    male  33.8         1     no  southeast   1725.55\n",
            "2   28    male  33.0         3     no  southeast   4449.46\n",
            "3   33    male  22.7         0     no  northwest  21984.47\n",
            "4   32    male  28.9         0     no  northwest   3866.86\n"
          ],
          "name": "stdout"
        }
      ]
    },
    {
      "cell_type": "code",
      "metadata": {
        "colab": {
          "base_uri": "https://localhost:8080/"
        },
        "id": "llE-TNFFcPmp",
        "outputId": "23e1414c-edbd-4627-abac-e4c72e5a4dfb"
      },
      "source": [
        "print(dataset.isnull().sum())"
      ],
      "execution_count": null,
      "outputs": [
        {
          "output_type": "stream",
          "text": [
            "age         0\n",
            "sex         0\n",
            "bmi         0\n",
            "children    0\n",
            "smoker      0\n",
            "region      0\n",
            "expenses    0\n",
            "dtype: int64\n"
          ],
          "name": "stdout"
        }
      ]
    },
    {
      "cell_type": "code",
      "metadata": {
        "colab": {
          "base_uri": "https://localhost:8080/"
        },
        "id": "lcbR9jdEcokS",
        "outputId": "c5818aee-4010-4d39-b577-6dd53cb892fb"
      },
      "source": [
        "print(dataset.describe())"
      ],
      "execution_count": null,
      "outputs": [
        {
          "output_type": "stream",
          "text": [
            "               age          bmi     children      expenses\n",
            "count  1338.000000  1338.000000  1338.000000   1338.000000\n",
            "mean     39.207025    30.665471     1.094918  13270.422414\n",
            "std      14.049960     6.098382     1.205493  12110.011240\n",
            "min      18.000000    16.000000     0.000000   1121.870000\n",
            "25%      27.000000    26.300000     0.000000   4740.287500\n",
            "50%      39.000000    30.400000     1.000000   9382.030000\n",
            "75%      51.000000    34.700000     2.000000  16639.915000\n",
            "max      64.000000    53.100000     5.000000  63770.430000\n"
          ],
          "name": "stdout"
        }
      ]
    },
    {
      "cell_type": "code",
      "metadata": {
        "colab": {
          "base_uri": "https://localhost:8080/",
          "height": 295
        },
        "id": "lVv-_dqDcy79",
        "outputId": "6e6d1a3c-9067-4cb8-b53d-31c49e3e28c7"
      },
      "source": [
        "dataset['age'].hist(bins = 50)\n",
        "plt.xlabel(\"Age\")\n",
        "plt.title(\"Histogram of Age\")\n",
        "plt.show()"
      ],
      "execution_count": null,
      "outputs": [
        {
          "output_type": "display_data",
          "data": {
            "image/png": "[encoded data removed]",
            "text/plain": [
              "<Figure size 432x288 with 1 Axes>"
            ]
          },
          "metadata": {
            "tags": [],
            "needs_background": "light"
          }
        }
      ]
    },
    {
      "cell_type": "code",
      "metadata": {
        "colab": {
          "base_uri": "https://localhost:8080/"
        },
        "id": "Wde_J1OvdMPg",
        "outputId": "c620e27d-1553-45a5-c629-6e40559e92f9"
      },
      "source": [
        "#One hot encode our gender columns\n",
        "\n",
        "dummy_smoker = pd.get_dummies(dataset['smoker'])\n",
        "\n",
        "print(dummy_smoker)\n",
        "\n"
      ],
      "execution_count": null,
      "outputs": [
        {
          "output_type": "stream",
          "text": [
            "      no  yes\n",
            "0      0    1\n",
            "1      1    0\n",
            "2      1    0\n",
            "3      1    0\n",
            "4      1    0\n",
            "...   ..  ...\n",
            "1333   1    0\n",
            "1334   1    0\n",
            "1335   1    0\n",
            "1336   1    0\n",
            "1337   0    1\n",
            "\n",
            "[1338 rows x 2 columns]\n"
          ],
          "name": "stdout"
        }
      ]
    },
    {
      "cell_type": "code",
      "metadata": {
        "colab": {
          "base_uri": "https://localhost:8080/"
        },
        "id": "IX0HCyuHeW1r",
        "outputId": "cafadbbe-d1bc-425a-d194-fca56bb149f7"
      },
      "source": [
        "dataset = pd.merge(left = dataset, right = dummy_smoker, left_index=True, right_index=True)\n",
        "\n",
        "print(dataset)"
      ],
      "execution_count": null,
      "outputs": [
        {
          "output_type": "stream",
          "text": [
            "      age   bmi  children smoker     region  expenses  female  male  no  yes\n",
            "0      19  27.9         0    yes  southwest  16884.92       1     0   0    1\n",
            "1      18  33.8         1     no  southeast   1725.55       0     1   1    0\n",
            "2      28  33.0         3     no  southeast   4449.46       0     1   1    0\n",
            "3      33  22.7         0     no  northwest  21984.47       0     1   1    0\n",
            "4      32  28.9         0     no  northwest   3866.86       0     1   1    0\n",
            "...   ...   ...       ...    ...        ...       ...     ...   ...  ..  ...\n",
            "1333   50  31.0         3     no  northwest  10600.55       0     1   1    0\n",
            "1334   18  31.9         0     no  northeast   2205.98       1     0   1    0\n",
            "1335   18  36.9         0     no  southeast   1629.83       1     0   1    0\n",
            "1336   21  25.8         0     no  southwest   2007.95       1     0   1    0\n",
            "1337   61  29.1         0    yes  northwest  29141.36       1     0   0    1\n",
            "\n",
            "[1338 rows x 10 columns]\n"
          ],
          "name": "stdout"
        }
      ]
    },
    {
      "cell_type": "code",
      "metadata": {
        "colab": {
          "base_uri": "https://localhost:8080/"
        },
        "id": "ibOtYjlOj4iH",
        "outputId": "9c649715-d2a4-4f72-f700-8fdd155b81d8"
      },
      "source": [
        "#drop the sex dataset\n",
        "dataset = dataset.drop(['smoker'], axis = 1)\n",
        "print(dataset)"
      ],
      "execution_count": null,
      "outputs": [
        {
          "output_type": "stream",
          "text": [
            "      age   bmi  children     region  expenses  female  male  no  yes\n",
            "0      19  27.9         0  southwest  16884.92       1     0   0    1\n",
            "1      18  33.8         1  southeast   1725.55       0     1   1    0\n",
            "2      28  33.0         3  southeast   4449.46       0     1   1    0\n",
            "3      33  22.7         0  northwest  21984.47       0     1   1    0\n",
            "4      32  28.9         0  northwest   3866.86       0     1   1    0\n",
            "...   ...   ...       ...        ...       ...     ...   ...  ..  ...\n",
            "1333   50  31.0         3  northwest  10600.55       0     1   1    0\n",
            "1334   18  31.9         0  northeast   2205.98       1     0   1    0\n",
            "1335   18  36.9         0  southeast   1629.83       1     0   1    0\n",
            "1336   21  25.8         0  southwest   2007.95       1     0   1    0\n",
            "1337   61  29.1         0  northwest  29141.36       1     0   0    1\n",
            "\n",
            "[1338 rows x 9 columns]\n"
          ],
          "name": "stdout"
        }
      ]
    },
    {
      "cell_type": "code",
      "metadata": {
        "colab": {
          "base_uri": "https://localhost:8080/"
        },
        "id": "pBRqenjbkYHw",
        "outputId": "f0d505b7-7b51-4aaa-c1ff-1228258d0974"
      },
      "source": [
        "#time to scale our data\n",
        "dummy_region = pd.get_dummies(dataset['region'])\n",
        "\n",
        "dataset = pd.merge(left = dataset, right=dummy_region, left_index=True, right_index=True)\n",
        "\n",
        "dataset = dataset.drop(['region'] , axis = 1)\n",
        "print(dataset)"
      ],
      "execution_count": null,
      "outputs": [
        {
          "output_type": "stream",
          "text": [
            "      age   bmi  children  expenses  ...  northeast  northwest  southeast  southwest\n",
            "0      19  27.9         0  16884.92  ...          0          0          0          1\n",
            "1      18  33.8         1   1725.55  ...          0          0          1          0\n",
            "2      28  33.0         3   4449.46  ...          0          0          1          0\n",
            "3      33  22.7         0  21984.47  ...          0          1          0          0\n",
            "4      32  28.9         0   3866.86  ...          0          1          0          0\n",
            "...   ...   ...       ...       ...  ...        ...        ...        ...        ...\n",
            "1333   50  31.0         3  10600.55  ...          0          1          0          0\n",
            "1334   18  31.9         0   2205.98  ...          1          0          0          0\n",
            "1335   18  36.9         0   1629.83  ...          0          0          1          0\n",
            "1336   21  25.8         0   2007.95  ...          0          0          0          1\n",
            "1337   61  29.1         0  29141.36  ...          0          1          0          0\n",
            "\n",
            "[1338 rows x 12 columns]\n"
          ],
          "name": "stdout"
        }
      ]
    },
    {
      "cell_type": "code",
      "metadata": {
        "id": "8XL6j_RAkkQs"
      },
      "source": [
        "#Now our data is all numerical, it is ready for scaling\n",
        "df = dataset\n",
        "\n",
        "df_prescaled = df.copy()\n",
        "\n",
        "#Drop the expenses\n",
        "df_scaled = df.drop(['expenses'], axis = 1)\n",
        "\n",
        "from sklearn.preprocessing import scale\n",
        "df_scaled = scale(df_scaled)"
      ],
      "execution_count": null,
      "outputs": []
    },
    {
      "cell_type": "code",
      "metadata": {
        "colab": {
          "base_uri": "https://localhost:8080/"
        },
        "id": "hfulPi0Fk5o3",
        "outputId": "3a42d7b9-e34e-47fe-f371-e9dc1ab7b264"
      },
      "source": [
        "#convert the objects back into a dataframe\n",
        "cols = df.columns.tolist()\n",
        "cols.remove('expenses')\n",
        "df_scaled = pd.DataFrame(df_scaled, columns=cols, index = df.index)\n",
        "df_scaled = pd.concat([df_scaled, df['expenses']], axis = 1)\n",
        "df = df_scaled.copy()\n",
        "\n",
        "print(df)"
      ],
      "execution_count": null,
      "outputs": [
        {
          "output_type": "stream",
          "text": [
            "           age       bmi  children  ...  southeast  southwest  expenses\n",
            "0    -1.438764 -0.453646 -0.908614  ...  -0.611324   1.765481  16884.92\n",
            "1    -1.509965  0.514186 -0.078767  ...   1.635795  -0.566418   1725.55\n",
            "2    -0.797954  0.382954  1.580926  ...   1.635795  -0.566418   4449.46\n",
            "3    -0.441948 -1.306650 -0.908614  ...  -0.611324  -0.566418  21984.47\n",
            "4    -0.513149 -0.289606 -0.908614  ...  -0.611324  -0.566418   3866.86\n",
            "...        ...       ...       ...  ...        ...        ...       ...\n",
            "1333  0.768473  0.054876  1.580926  ...  -0.611324  -0.566418  10600.55\n",
            "1334 -1.509965  0.202511 -0.908614  ...  -0.611324  -0.566418   2205.98\n",
            "1335 -1.509965  1.022707 -0.908614  ...   1.635795  -0.566418   1629.83\n",
            "1336 -1.296362 -0.798128 -0.908614  ...  -0.611324   1.765481   2007.95\n",
            "1337  1.551686 -0.256799 -0.908614  ...  -0.611324  -0.566418  29141.36\n",
            "\n",
            "[1338 rows x 12 columns]\n"
          ],
          "name": "stdout"
        }
      ]
    },
    {
      "cell_type": "code",
      "metadata": {
        "id": "rF-g_DLVnW0g"
      },
      "source": [
        "#Seperating into testing and training data\n",
        "x = df.loc[:, df.columns != 'expenses']\n",
        "y = df.loc[:, 'expenses']\n",
        "\n",
        "from sklearn.model_selection import train_test_split\n",
        "x_train, x_test, y_train, y_test = train_test_split(x, y, test_size = 0.2)"
      ],
      "execution_count": null,
      "outputs": []
    },
    {
      "cell_type": "code",
      "metadata": {
        "id": "Covw9KHdoAJC"
      },
      "source": [
        "#Building our regression model\n",
        "from keras.models import Sequential\n",
        "from keras.layers import Dense\n",
        "model = Sequential()\n",
        "model.add(Dense(128, activation = 'relu', input_dim = x_train.shape[1]))\n",
        "model.add(Dense(64, activation = 'relu'))\n",
        "model.add(Dense(32, activation = 'relu'))\n",
        "model.add(Dense(8, activation = 'relu'))\n",
        "model.add(Dense(1))"
      ],
      "execution_count": null,
      "outputs": []
    },
    {
      "cell_type": "code",
      "metadata": {
        "colab": {
          "base_uri": "https://localhost:8080/"
        },
        "id": "Rt7ERSUPoyPJ",
        "outputId": "07141d93-c5e3-413b-849e-1637e265fc2e"
      },
      "source": [
        "model.summary()"
      ],
      "execution_count": null,
      "outputs": [
        {
          "output_type": "stream",
          "text": [
            "Model: \"sequential\"\n",
            "_________________________________________________________________\n",
            "Layer (type)                 Output Shape              Param #   \n",
            "=================================================================\n",
            "dense (Dense)                (None, 128)               1536      \n",
            "_________________________________________________________________\n",
            "dense_1 (Dense)              (None, 64)                8256      \n",
            "_________________________________________________________________\n",
            "dense_2 (Dense)              (None, 32)                2080      \n",
            "_________________________________________________________________\n",
            "dense_3 (Dense)              (None, 8)                 264       \n",
            "_________________________________________________________________\n",
            "dense_4 (Dense)              (None, 1)                 9         \n",
            "=================================================================\n",
            "Total params: 12,145\n",
            "Trainable params: 12,145\n",
            "Non-trainable params: 0\n",
            "_________________________________________________________________\n"
          ],
          "name": "stdout"
        }
      ]
    },
    {
      "cell_type": "code",
      "metadata": {
        "colab": {
          "base_uri": "https://localhost:8080/"
        },
        "id": "uUHTau8Ho0Hz",
        "outputId": "1869fe1e-dde6-4642-91db-a4d5d8fb5fde"
      },
      "source": [
        "#Compile the model\n",
        "model.compile(loss = 'mse', optimizer='adam', metrics = ['mse', 'mae'])\n",
        "#Train the model\n",
        "model.fit(x_train, y_train, epochs = 7)"
      ],
      "execution_count": null,
      "outputs": [
        {
          "output_type": "stream",
          "text": [
            "Epoch 1/7\n",
            "34/34 [==============================] - 1s 2ms/step - loss: 33712537.9429 - mse: 33712537.9429 - mae: 4056.9472\n",
            "Epoch 2/7\n",
            "34/34 [==============================] - 0s 2ms/step - loss: 28852977.6571 - mse: 28852977.6571 - mae: 3761.2838\n",
            "Epoch 3/7\n",
            "34/34 [==============================] - 0s 2ms/step - loss: 33723701.3714 - mse: 33723701.3714 - mae: 3953.3280\n",
            "Epoch 4/7\n",
            "34/34 [==============================] - 0s 2ms/step - loss: 31621679.2571 - mse: 31621679.2571 - mae: 3799.7939\n",
            "Epoch 5/7\n",
            "34/34 [==============================] - 0s 2ms/step - loss: 27888032.5143 - mse: 27888032.5143 - mae: 3604.6351\n",
            "Epoch 6/7\n",
            "34/34 [==============================] - 0s 2ms/step - loss: 30691206.5714 - mse: 30691206.5714 - mae: 3698.0869\n",
            "Epoch 7/7\n",
            "34/34 [==============================] - 0s 2ms/step - loss: 30937733.0286 - mse: 30937733.0286 - mae: 3838.6875\n"
          ],
          "name": "stdout"
        },
        {
          "output_type": "execute_result",
          "data": {
            "text/plain": [
              "<tensorflow.python.keras.callbacks.History at 0x7f4dd3751710>"
            ]
          },
          "metadata": {
            "tags": []
          },
          "execution_count": 41
        }
      ]
    },
    {
      "cell_type": "code",
      "metadata": {
        "colab": {
          "base_uri": "https://localhost:8080/",
          "height": 334
        },
        "id": "Kwo6woMFpGMh",
        "outputId": "e1d5670f-02a7-4240-b5e1-7d975a60e018"
      },
      "source": [
        "# Test model by checking how well the model generalizes using the test set.\n",
        "loss, mse, mae = model.evaluate(x_test, y_test, verbose=2)\n",
        "\n",
        "print(\"Testing set Mean Abs Error: {:3.2f} expenses\".format(mae))\n",
        "\n",
        "if mae < 3500:\n",
        "  print(\"You passed the challenge. Great job!\")\n",
        "else:\n",
        "  print(\"The Mean Abs Error must be less than 3500. Keep trying.\")\n",
        "\n",
        "# Plot predictions.\n",
        "test_predictions = model.predict(x_test).flatten()\n",
        "\n",
        "a = plt.axes(aspect='equal')\n",
        "plt.scatter(y_test, test_predictions)\n",
        "plt.xlabel('True values (expenses)')\n",
        "plt.ylabel('Predictions (expenses)')\n",
        "lims = [0, 50000]\n",
        "plt.xlim(lims)\n",
        "plt.ylim(lims)\n",
        "_ = plt.plot(lims,lims)"
      ],
      "execution_count": null,
      "outputs": [
        {
          "output_type": "stream",
          "text": [
            "9/9 - 0s - loss: 32141630.0000 - mse: 32141630.0000 - mae: 3479.2981\n",
            "Testing set Mean Abs Error: 3479.30 expenses\n",
            "You passed the challenge. Great job!\n"
          ],
          "name": "stdout"
        },
        {
          "output_type": "display_data",
          "data": {
            "image/png": "[encoded data removed]",
            "text/plain": [
              "<Figure size 432x288 with 1 Axes>"
            ]
          },
          "metadata": {
            "tags": [],
            "needs_background": "light"
          }
        }
      ]
    },
    {
      "cell_type": "code",
      "metadata": {
        "id": "w2XN78Dspq-P"
      },
      "source": [
        ""
      ],
      "execution_count": null,
      "outputs": []
    }
  ]
}